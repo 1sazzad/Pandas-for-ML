{
 "cells": [
  {
   "cell_type": "code",
   "execution_count": 4,
   "id": "f297b07a-03e4-40f7-9f88-398402549d5a",
   "metadata": {},
   "outputs": [],
   "source": [
    "import pandas as pd\n",
    "import numpy as np"
   ]
  },
  {
   "cell_type": "code",
   "execution_count": 5,
   "id": "ce81d875-08c6-4a0b-bd77-c27794e740c0",
   "metadata": {},
   "outputs": [],
   "source": [
    "# panda series - like a Table column one dimensional array holding any type of data."
   ]
  },
  {
   "cell_type": "code",
   "execution_count": 7,
   "id": "1beb5123-08ca-4a24-9c44-d7ddd318286b",
   "metadata": {},
   "outputs": [
    {
     "data": {
      "text/plain": [
       "0     5\n",
       "1     9\n",
       "2    12\n",
       "3    27\n",
       "dtype: int64"
      ]
     },
     "execution_count": 7,
     "metadata": {},
     "output_type": "execute_result"
    }
   ],
   "source": [
    "my_series = [5,9,12,27]\n",
    "my_var = pd.Series(my_series)\n",
    "my_var"
   ]
  },
  {
   "cell_type": "code",
   "execution_count": 8,
   "id": "629cad6e-96d2-4c6c-b0e4-5904422cde2d",
   "metadata": {},
   "outputs": [
    {
     "data": {
      "text/plain": [
       "np.int64(12)"
      ]
     },
     "execution_count": 8,
     "metadata": {},
     "output_type": "execute_result"
    }
   ],
   "source": [
    "# print specific value\n",
    "my_var[2]"
   ]
  },
  {
   "cell_type": "code",
   "execution_count": 13,
   "id": "c247b95e-db10-474c-8373-c349a50f1d75",
   "metadata": {},
   "outputs": [
    {
     "data": {
      "text/plain": [
       "A     5\n",
       "B     9\n",
       "C    12\n",
       "D    27\n",
       "dtype: int64"
      ]
     },
     "execution_count": 13,
     "metadata": {},
     "output_type": "execute_result"
    }
   ],
   "source": [
    "# labels using index argument\n",
    "my_index = ['A', 'B', 'C', 'D']\n",
    "my_var2 = pd.Series(my_series, index=my_index)\n",
    "my_var2\n"
   ]
  },
  {
   "cell_type": "code",
   "execution_count": 14,
   "id": "17bfc882-56e0-4895-be2b-4e79b0769adb",
   "metadata": {},
   "outputs": [
    {
     "data": {
      "text/plain": [
       "np.int64(9)"
      ]
     },
     "execution_count": 14,
     "metadata": {},
     "output_type": "execute_result"
    }
   ],
   "source": [
    "my_var2['B']"
   ]
  },
  {
   "cell_type": "code",
   "execution_count": 17,
   "id": "ac8cb08a-6371-4344-b44a-87fc26e26bfd",
   "metadata": {},
   "outputs": [
    {
     "data": {
      "text/plain": [
       "Tesla       12\n",
       "Mercedes    42\n",
       "BMW          3\n",
       "dtype: int64"
      ]
     },
     "execution_count": 17,
     "metadata": {},
     "output_type": "execute_result"
    }
   ],
   "source": [
    "# key value dictionary\n",
    "cars = {\"Tesla\":12, \"Mercedes\":42, \"BMW\":3}\n",
    "my_var3 = pd.Series(cars)\n",
    "my_var3"
   ]
  },
  {
   "cell_type": "code",
   "execution_count": 18,
   "id": "2cc6f97a-71e5-4d3e-9946-571508ba8e03",
   "metadata": {},
   "outputs": [
    {
     "data": {
      "text/plain": [
       "np.int64(12)"
      ]
     },
     "execution_count": 18,
     "metadata": {},
     "output_type": "execute_result"
    }
   ],
   "source": [
    "my_var3[\"Tesla\"]"
   ]
  },
  {
   "cell_type": "code",
   "execution_count": null,
   "id": "b1e50989-b0b0-4124-b116-6fb6587de430",
   "metadata": {},
   "outputs": [],
   "source": []
  }
 ],
 "metadata": {
  "kernelspec": {
   "display_name": "Python 3 (ipykernel)",
   "language": "python",
   "name": "python3"
  },
  "language_info": {
   "codemirror_mode": {
    "name": "ipython",
    "version": 3
   },
   "file_extension": ".py",
   "mimetype": "text/x-python",
   "name": "python",
   "nbconvert_exporter": "python",
   "pygments_lexer": "ipython3",
   "version": "3.13.0"
  }
 },
 "nbformat": 4,
 "nbformat_minor": 5
}
